{
  "nbformat": 4,
  "nbformat_minor": 0,
  "metadata": {
    "kernelspec": {
      "name": "python3",
      "display_name": "Python 3"
    },
    "language_info": {
      "codemirror_mode": {
        "name": "ipython",
        "version": 3
      },
      "file_extension": ".py",
      "mimetype": "text/x-python",
      "name": "python",
      "nbconvert_exporter": "python",
      "pygments_lexer": "ipython3",
      "version": "3.6.9"
    },
    "colab": {
      "name": "License Plate Detection.ipynb",
      "provenance": [],
      "include_colab_link": true
    },
    "accelerator": "GPU"
  },
  "cells": [
    {
      "cell_type": "markdown",
      "metadata": {
        "id": "view-in-github",
        "colab_type": "text"
      },
      "source": [
        "<a href=\"https://colab.research.google.com/github/PrinceSajjadHussain/12.-TensforFlow-Object-Detection/blob/master/License_Plate_Detection.ipynb\" target=\"_parent\"><img src=\"https://colab.research.google.com/assets/colab-badge.svg\" alt=\"Open In Colab\"/></a>"
      ]
    },
    {
      "cell_type": "markdown",
      "metadata": {
        "id": "AX5l0r3xKWYu"
      },
      "source": [
        "# Import Libraries\n",
        "- cv2 is opencv library which stands for open source computer vision. Opecv is a collection os algorithms which are used for computer vision.\n",
        "- numpy is stands for Numerical Python. It is useful library for scitific calcualtion in python. It has multidimentional array object and lots of usefull methods for calculations.\n",
        "- matplotlib.pyplot is used for ploting images."
      ]
    },
    {
      "cell_type": "code",
      "metadata": {
        "id": "tH_iccF9KWYw"
      },
      "source": [
        "import cv2\n",
        "import numpy as np\n",
        "import matplotlib.pyplot as plt"
      ],
      "execution_count": null,
      "outputs": []
    },
    {
      "cell_type": "markdown",
      "metadata": {
        "id": "3FpKFMqAKWY0"
      },
      "source": [
        "# Download Dataset\n",
        "- Data set for this project is downloaded from server\n",
        "- unzip the download .zip file to get the .json file from it"
      ]
    },
    {
      "cell_type": "code",
      "metadata": {
        "id": "MPnbgKNRKWY1",
        "colab": {
          "base_uri": "https://localhost:8080/",
          "height": 240
        },
        "outputId": "fa8fc779-f98c-43c3-fb26-49cb62613f33"
      },
      "source": [
        "#download dataset zip file\n",
        "!wget -O dataset.zip https://cc-uploads.s3.amazonaws.com/open_links/HumAIn+2019/vehicle-number-plate-detection+Datasets.zip\n",
        "\n",
        "    \n",
        "# #unzip the downloaded zip file    \n",
        "!unzip dataset.zip    "
      ],
      "execution_count": null,
      "outputs": [
        {
          "output_type": "stream",
          "text": [
            "--2019-08-26 09:02:40--  https://cc-uploads.s3.amazonaws.com/open_links/HumAIn+2019/vehicle-number-plate-detection+Datasets.zip\n",
            "Resolving cc-uploads.s3.amazonaws.com (cc-uploads.s3.amazonaws.com)... 52.216.163.163\n",
            "Connecting to cc-uploads.s3.amazonaws.com (cc-uploads.s3.amazonaws.com)|52.216.163.163|:443... connected.\n",
            "HTTP request sent, awaiting response... 200 OK\n",
            "Length: 20255 (20K) [application/zip]\n",
            "Saving to: ‘dataset.zip’\n",
            "\n",
            "\rdataset.zip           0%[                    ]       0  --.-KB/s               \rdataset.zip         100%[===================>]  19.78K  --.-KB/s    in 0.03s   \n",
            "\n",
            "2019-08-26 09:02:40 (599 KB/s) - ‘dataset.zip’ saved [20255/20255]\n",
            "\n",
            "Archive:  dataset.zip\n",
            "  inflating: Indian_Number_plates.json  \n"
          ],
          "name": "stdout"
        }
      ]
    },
    {
      "cell_type": "markdown",
      "metadata": {
        "id": "eaWm-ZmHKWY4"
      },
      "source": [
        "# Load data from dataset json file \n",
        "- Dataset Indian_Number_plates.json is consisting of nested json object. So I am using pandas json_normalize method to make a dataframe as your requirement"
      ]
    },
    {
      "cell_type": "code",
      "metadata": {
        "id": "7v_pYvz6KWY5",
        "colab": {
          "base_uri": "https://localhost:8080/",
          "height": 215
        },
        "outputId": "07cbce1d-2b80-41c9-da49-cd649a802972"
      },
      "source": [
        "import json\n",
        "from pandas.io.json import json_normalize\n",
        "\n",
        "data = list()\n",
        "with open('Indian_Number_plates.json') as data_file:\n",
        "    for line in data_file:\n",
        "        data.append(json.loads(line))\n",
        "\n",
        "df = json_normalize(data=data,record_path=['annotation'],meta=['content'])\n",
        "\n",
        "print(df.shape)\n",
        "df.head()"
      ],
      "execution_count": null,
      "outputs": [
        {
          "output_type": "stream",
          "text": [
            "(245, 6)\n"
          ],
          "name": "stdout"
        },
        {
          "output_type": "execute_result",
          "data": {
            "text/html": [
              "<div>\n",
              "<style scoped>\n",
              "    .dataframe tbody tr th:only-of-type {\n",
              "        vertical-align: middle;\n",
              "    }\n",
              "\n",
              "    .dataframe tbody tr th {\n",
              "        vertical-align: top;\n",
              "    }\n",
              "\n",
              "    .dataframe thead th {\n",
              "        text-align: right;\n",
              "    }\n",
              "</style>\n",
              "<table border=\"1\" class=\"dataframe\">\n",
              "  <thead>\n",
              "    <tr style=\"text-align: right;\">\n",
              "      <th></th>\n",
              "      <th>imageHeight</th>\n",
              "      <th>imageWidth</th>\n",
              "      <th>label</th>\n",
              "      <th>notes</th>\n",
              "      <th>points</th>\n",
              "      <th>content</th>\n",
              "    </tr>\n",
              "  </thead>\n",
              "  <tbody>\n",
              "    <tr>\n",
              "      <th>0</th>\n",
              "      <td>466</td>\n",
              "      <td>806</td>\n",
              "      <td>[number_plate]</td>\n",
              "      <td></td>\n",
              "      <td>[{'x': 0.7220843672456576, 'y': 0.587982832618...</td>\n",
              "      <td>http://com.dataturks.a96-i23.open.s3.amazonaws...</td>\n",
              "    </tr>\n",
              "    <tr>\n",
              "      <th>1</th>\n",
              "      <td>449</td>\n",
              "      <td>494</td>\n",
              "      <td>[number_plate]</td>\n",
              "      <td></td>\n",
              "      <td>[{'x': 0.16194331983805668, 'y': 0.85077951002...</td>\n",
              "      <td>http://com.dataturks.a96-i23.open.s3.amazonaws...</td>\n",
              "    </tr>\n",
              "    <tr>\n",
              "      <th>2</th>\n",
              "      <td>314</td>\n",
              "      <td>500</td>\n",
              "      <td>[number_plate]</td>\n",
              "      <td></td>\n",
              "      <td>[{'x': 0.082, 'y': 0.697452229299363}, {'x': 0...</td>\n",
              "      <td>http://com.dataturks.a96-i23.open.s3.amazonaws...</td>\n",
              "    </tr>\n",
              "    <tr>\n",
              "      <th>3</th>\n",
              "      <td>469</td>\n",
              "      <td>500</td>\n",
              "      <td>[number_plate]</td>\n",
              "      <td></td>\n",
              "      <td>[{'x': 0.434, 'y': 0.6673773987206824}, {'x': ...</td>\n",
              "      <td>http://com.dataturks.a96-i23.open.s3.amazonaws...</td>\n",
              "    </tr>\n",
              "    <tr>\n",
              "      <th>4</th>\n",
              "      <td>563</td>\n",
              "      <td>1001</td>\n",
              "      <td>[number_plate]</td>\n",
              "      <td></td>\n",
              "      <td>[{'x': 0.2087912087912088, 'y': 0.390763765541...</td>\n",
              "      <td>http://com.dataturks.a96-i23.open.s3.amazonaws...</td>\n",
              "    </tr>\n",
              "  </tbody>\n",
              "</table>\n",
              "</div>"
            ],
            "text/plain": [
              "   imageHeight  ...                                            content\n",
              "0          466  ...  http://com.dataturks.a96-i23.open.s3.amazonaws...\n",
              "1          449  ...  http://com.dataturks.a96-i23.open.s3.amazonaws...\n",
              "2          314  ...  http://com.dataturks.a96-i23.open.s3.amazonaws...\n",
              "3          469  ...  http://com.dataturks.a96-i23.open.s3.amazonaws...\n",
              "4          563  ...  http://com.dataturks.a96-i23.open.s3.amazonaws...\n",
              "\n",
              "[5 rows x 6 columns]"
            ]
          },
          "metadata": {
            "tags": []
          },
          "execution_count": 3
        }
      ]
    },
    {
      "cell_type": "markdown",
      "metadata": {
        "id": "eJmh-vS9KWY8"
      },
      "source": [
        "# Download images from url and store it into the test_images directory\n",
        "- By using the dataframe 'content' columns url, I am downloading the images from server and store them inside the 'test_images' directory with sequential filename\n",
        "- Filenames are stored inside a list named image_list"
      ]
    },
    {
      "cell_type": "code",
      "metadata": {
        "id": "VuUkC8-0KWY9",
        "colab": {
          "base_uri": "https://localhost:8080/",
          "height": 311
        },
        "outputId": "8cabc50c-b673-453a-ff5b-5b3aee3f4c19"
      },
      "source": [
        "#install scikit image\n",
        "!pip install scikit-image"
      ],
      "execution_count": null,
      "outputs": [
        {
          "output_type": "stream",
          "text": [
            "Requirement already satisfied: scikit-image in /usr/local/lib/python3.6/dist-packages (0.15.0)\n",
            "Requirement already satisfied: scipy>=0.17.0 in /usr/local/lib/python3.6/dist-packages (from scikit-image) (1.3.1)\n",
            "Requirement already satisfied: imageio>=2.0.1 in /usr/local/lib/python3.6/dist-packages (from scikit-image) (2.4.1)\n",
            "Requirement already satisfied: networkx>=2.0 in /usr/local/lib/python3.6/dist-packages (from scikit-image) (2.3)\n",
            "Requirement already satisfied: matplotlib!=3.0.0,>=2.0.0 in /usr/local/lib/python3.6/dist-packages (from scikit-image) (3.0.3)\n",
            "Requirement already satisfied: pillow>=4.3.0 in /usr/local/lib/python3.6/dist-packages (from scikit-image) (4.3.0)\n",
            "Requirement already satisfied: PyWavelets>=0.4.0 in /usr/local/lib/python3.6/dist-packages (from scikit-image) (1.0.3)\n",
            "Requirement already satisfied: numpy>=1.13.3 in /usr/local/lib/python3.6/dist-packages (from scipy>=0.17.0->scikit-image) (1.16.4)\n",
            "Requirement already satisfied: decorator>=4.3.0 in /usr/local/lib/python3.6/dist-packages (from networkx>=2.0->scikit-image) (4.4.0)\n",
            "Requirement already satisfied: pyparsing!=2.0.4,!=2.1.2,!=2.1.6,>=2.0.1 in /usr/local/lib/python3.6/dist-packages (from matplotlib!=3.0.0,>=2.0.0->scikit-image) (2.4.2)\n",
            "Requirement already satisfied: cycler>=0.10 in /usr/local/lib/python3.6/dist-packages (from matplotlib!=3.0.0,>=2.0.0->scikit-image) (0.10.0)\n",
            "Requirement already satisfied: kiwisolver>=1.0.1 in /usr/local/lib/python3.6/dist-packages (from matplotlib!=3.0.0,>=2.0.0->scikit-image) (1.1.0)\n",
            "Requirement already satisfied: python-dateutil>=2.1 in /usr/local/lib/python3.6/dist-packages (from matplotlib!=3.0.0,>=2.0.0->scikit-image) (2.5.3)\n",
            "Requirement already satisfied: olefile in /usr/local/lib/python3.6/dist-packages (from pillow>=4.3.0->scikit-image) (0.46)\n",
            "Requirement already satisfied: six in /usr/local/lib/python3.6/dist-packages (from cycler>=0.10->matplotlib!=3.0.0,>=2.0.0->scikit-image) (1.12.0)\n",
            "Requirement already satisfied: setuptools in /usr/local/lib/python3.6/dist-packages (from kiwisolver>=1.0.1->matplotlib!=3.0.0,>=2.0.0->scikit-image) (41.2.0)\n"
          ],
          "name": "stdout"
        }
      ]
    },
    {
      "cell_type": "code",
      "metadata": {
        "id": "JqWrD39dKWY_"
      },
      "source": [
        "from skimage import io\n",
        "\n",
        "!mkdir -p test_images\n",
        "\n",
        "image_list =list()\n",
        "for i in range(df.shape[0]):\n",
        "    file_name = \"image\"+str(i)+\".jpg\"\n",
        "    file_path = \"test_images/\"+file_name\n",
        "    url =  df['content'][i]\n",
        "    image_list.append(file_name)\n",
        "    img = io.imread(url)\n",
        "    cv2.imwrite(file_path,img)"
      ],
      "execution_count": null,
      "outputs": []
    },
    {
      "cell_type": "markdown",
      "metadata": {
        "id": "ARzPZXELKWZC"
      },
      "source": [
        "# Add downloaded image list to the dataframe\n",
        "- the image filename list is inserted to the dataframe"
      ]
    },
    {
      "cell_type": "code",
      "metadata": {
        "id": "hO2NISpaKWZC",
        "colab": {
          "base_uri": "https://localhost:8080/",
          "height": 198
        },
        "outputId": "a7c7cd10-2554-4b58-9a0d-dd7c7f8dbd02"
      },
      "source": [
        "df.insert(0,\"imageName\",image_list)\n",
        "df.head()"
      ],
      "execution_count": null,
      "outputs": [
        {
          "output_type": "execute_result",
          "data": {
            "text/html": [
              "<div>\n",
              "<style scoped>\n",
              "    .dataframe tbody tr th:only-of-type {\n",
              "        vertical-align: middle;\n",
              "    }\n",
              "\n",
              "    .dataframe tbody tr th {\n",
              "        vertical-align: top;\n",
              "    }\n",
              "\n",
              "    .dataframe thead th {\n",
              "        text-align: right;\n",
              "    }\n",
              "</style>\n",
              "<table border=\"1\" class=\"dataframe\">\n",
              "  <thead>\n",
              "    <tr style=\"text-align: right;\">\n",
              "      <th></th>\n",
              "      <th>imageName</th>\n",
              "      <th>imageHeight</th>\n",
              "      <th>imageWidth</th>\n",
              "      <th>label</th>\n",
              "      <th>notes</th>\n",
              "      <th>points</th>\n",
              "      <th>content</th>\n",
              "    </tr>\n",
              "  </thead>\n",
              "  <tbody>\n",
              "    <tr>\n",
              "      <th>0</th>\n",
              "      <td>image0.jpg</td>\n",
              "      <td>466</td>\n",
              "      <td>806</td>\n",
              "      <td>[number_plate]</td>\n",
              "      <td></td>\n",
              "      <td>[{'x': 0.7220843672456576, 'y': 0.587982832618...</td>\n",
              "      <td>http://com.dataturks.a96-i23.open.s3.amazonaws...</td>\n",
              "    </tr>\n",
              "    <tr>\n",
              "      <th>1</th>\n",
              "      <td>image1.jpg</td>\n",
              "      <td>449</td>\n",
              "      <td>494</td>\n",
              "      <td>[number_plate]</td>\n",
              "      <td></td>\n",
              "      <td>[{'x': 0.16194331983805668, 'y': 0.85077951002...</td>\n",
              "      <td>http://com.dataturks.a96-i23.open.s3.amazonaws...</td>\n",
              "    </tr>\n",
              "    <tr>\n",
              "      <th>2</th>\n",
              "      <td>image2.jpg</td>\n",
              "      <td>314</td>\n",
              "      <td>500</td>\n",
              "      <td>[number_plate]</td>\n",
              "      <td></td>\n",
              "      <td>[{'x': 0.082, 'y': 0.697452229299363}, {'x': 0...</td>\n",
              "      <td>http://com.dataturks.a96-i23.open.s3.amazonaws...</td>\n",
              "    </tr>\n",
              "    <tr>\n",
              "      <th>3</th>\n",
              "      <td>image3.jpg</td>\n",
              "      <td>469</td>\n",
              "      <td>500</td>\n",
              "      <td>[number_plate]</td>\n",
              "      <td></td>\n",
              "      <td>[{'x': 0.434, 'y': 0.6673773987206824}, {'x': ...</td>\n",
              "      <td>http://com.dataturks.a96-i23.open.s3.amazonaws...</td>\n",
              "    </tr>\n",
              "    <tr>\n",
              "      <th>4</th>\n",
              "      <td>image4.jpg</td>\n",
              "      <td>563</td>\n",
              "      <td>1001</td>\n",
              "      <td>[number_plate]</td>\n",
              "      <td></td>\n",
              "      <td>[{'x': 0.2087912087912088, 'y': 0.390763765541...</td>\n",
              "      <td>http://com.dataturks.a96-i23.open.s3.amazonaws...</td>\n",
              "    </tr>\n",
              "  </tbody>\n",
              "</table>\n",
              "</div>"
            ],
            "text/plain": [
              "    imageName  ...                                            content\n",
              "0  image0.jpg  ...  http://com.dataturks.a96-i23.open.s3.amazonaws...\n",
              "1  image1.jpg  ...  http://com.dataturks.a96-i23.open.s3.amazonaws...\n",
              "2  image2.jpg  ...  http://com.dataturks.a96-i23.open.s3.amazonaws...\n",
              "3  image3.jpg  ...  http://com.dataturks.a96-i23.open.s3.amazonaws...\n",
              "4  image4.jpg  ...  http://com.dataturks.a96-i23.open.s3.amazonaws...\n",
              "\n",
              "[5 rows x 7 columns]"
            ]
          },
          "metadata": {
            "tags": []
          },
          "execution_count": 6
        }
      ]
    },
    {
      "cell_type": "markdown",
      "metadata": {
        "id": "D_Y3zyFrKWZF"
      },
      "source": [
        "# OCR of the license plates\n",
        "- pytesseract library in python is used for ocr detection here.\n",
        "- from dataset we get the normalised quadinate of the license plate\n",
        "- using height and width of the dataset, I calculate the actual points\n",
        "- cropped image is generated using this corner point\n",
        "- then this cropped images is gives to the input of the image_to_string method fo pytesseract library\n",
        "- All the license plate detected result is stored into the license_plates list\n",
        "- This detected result is them added to dataframe corrosponding to the image"
      ]
    },
    {
      "cell_type": "code",
      "metadata": {
        "id": "iFP2v1JcKWZG",
        "colab": {
          "base_uri": "https://localhost:8080/",
          "height": 826
        },
        "outputId": "02a8d443-7548-44ca-c87a-2e856cb4a875"
      },
      "source": [
        "## install tesseract \n",
        "!sudo apt-get install tesseract-ocr\n",
        "!pip install pytesseract"
      ],
      "execution_count": null,
      "outputs": [
        {
          "output_type": "stream",
          "text": [
            "Reading package lists... Done\n",
            "Building dependency tree       \n",
            "Reading state information... Done\n",
            "The following additional packages will be installed:\n",
            "  tesseract-ocr-eng tesseract-ocr-osd\n",
            "The following NEW packages will be installed:\n",
            "  tesseract-ocr tesseract-ocr-eng tesseract-ocr-osd\n",
            "0 upgraded, 3 newly installed, 0 to remove and 14 not upgraded.\n",
            "Need to get 4,795 kB of archives.\n",
            "After this operation, 15.8 MB of additional disk space will be used.\n",
            "Get:1 http://archive.ubuntu.com/ubuntu bionic/universe amd64 tesseract-ocr-eng all 4.00~git24-0e00fe6-1.2 [1,588 kB]\n",
            "Get:2 http://archive.ubuntu.com/ubuntu bionic/universe amd64 tesseract-ocr-osd all 4.00~git24-0e00fe6-1.2 [2,989 kB]\n",
            "Get:3 http://archive.ubuntu.com/ubuntu bionic/universe amd64 tesseract-ocr amd64 4.00~git2288-10f4998a-2 [218 kB]\n",
            "Fetched 4,795 kB in 1s (4,084 kB/s)\n",
            "debconf: unable to initialize frontend: Dialog\n",
            "debconf: (No usable dialog-like program is installed, so the dialog based frontend cannot be used. at /usr/share/perl5/Debconf/FrontEnd/Dialog.pm line 76, <> line 3.)\n",
            "debconf: falling back to frontend: Readline\n",
            "debconf: unable to initialize frontend: Readline\n",
            "debconf: (This frontend requires a controlling tty.)\n",
            "debconf: falling back to frontend: Teletype\n",
            "dpkg-preconfigure: unable to re-open stdin: \n",
            "Selecting previously unselected package tesseract-ocr-eng.\n",
            "(Reading database ... 131183 files and directories currently installed.)\n",
            "Preparing to unpack .../tesseract-ocr-eng_4.00~git24-0e00fe6-1.2_all.deb ...\n",
            "Unpacking tesseract-ocr-eng (4.00~git24-0e00fe6-1.2) ...\n",
            "Selecting previously unselected package tesseract-ocr-osd.\n",
            "Preparing to unpack .../tesseract-ocr-osd_4.00~git24-0e00fe6-1.2_all.deb ...\n",
            "Unpacking tesseract-ocr-osd (4.00~git24-0e00fe6-1.2) ...\n",
            "Selecting previously unselected package tesseract-ocr.\n",
            "Preparing to unpack .../tesseract-ocr_4.00~git2288-10f4998a-2_amd64.deb ...\n",
            "Unpacking tesseract-ocr (4.00~git2288-10f4998a-2) ...\n",
            "Setting up tesseract-ocr-osd (4.00~git24-0e00fe6-1.2) ...\n",
            "Setting up tesseract-ocr-eng (4.00~git24-0e00fe6-1.2) ...\n",
            "Processing triggers for man-db (2.8.3-2ubuntu0.1) ...\n",
            "Setting up tesseract-ocr (4.00~git2288-10f4998a-2) ...\n",
            "Collecting pytesseract\n",
            "  Downloading https://files.pythonhosted.org/packages/47/e5/892d78db0d26372aa376fc1b127e9cd4cc158727a76e0802069115fcbd6e/pytesseract-0.3.0.tar.gz\n",
            "Requirement already satisfied: Pillow in /usr/local/lib/python3.6/dist-packages (from pytesseract) (4.3.0)\n",
            "Requirement already satisfied: olefile in /usr/local/lib/python3.6/dist-packages (from Pillow->pytesseract) (0.46)\n",
            "Building wheels for collected packages: pytesseract\n",
            "  Building wheel for pytesseract (setup.py) ... \u001b[?25l\u001b[?25hdone\n",
            "  Created wheel for pytesseract: filename=pytesseract-0.3.0-py2.py3-none-any.whl size=20969 sha256=5833c29dfaf0e9e78b716cd66ae5a4bf8b82185d26db4f59c35584c0e8eb2397\n",
            "  Stored in directory: /root/.cache/pip/wheels/78/c9/ac/4cb76bd547f9970070522439e5203ba7926c5c5c4f131583ea\n",
            "Successfully built pytesseract\n",
            "Installing collected packages: pytesseract\n",
            "Successfully installed pytesseract-0.3.0\n"
          ],
          "name": "stdout"
        }
      ]
    },
    {
      "cell_type": "code",
      "metadata": {
        "id": "92r5BqoZKWZI",
        "colab": {
          "base_uri": "https://localhost:8080/",
          "height": 283
        },
        "outputId": "fd6b1c04-bc42-4b86-9147-4a64d967b681"
      },
      "source": [
        "import pytesseract\n",
        "\n",
        "license_plates = list()\n",
        "for i in range(df.shape[0]):\n",
        "    \n",
        "    width = df['imageWidth'][i]\n",
        "    height = df['imageHeight'][i]\n",
        "    x1 = int(df['points'][i][0]['x']*width)\n",
        "    y1 = int(df['points'][i][0]['y']*height)\n",
        "    x2 = int(df['points'][i][1]['x']*width)\n",
        "    y2 = int(df['points'][i][1]['y']*height)\n",
        "    \n",
        "    img = cv2.imread(\"test_images/\"+df['imageName'][i],0)\n",
        "    cropped_img = img[y1:y2,x1:x2]\n",
        "    \n",
        "    license_plate_number =  pytesseract.image_to_string(cropped_img)\n",
        "    license_plate_number = \"\".join([i for i in license_plate_number if i==' ' or i.isalnum()])\n",
        "    license_plates.append(license_plate_number)\n",
        "    \n",
        "df.insert(0,\"license_plate_number\",license_plates)\n",
        "df[df['license_plate_number'].str.len() > 7].head()"
      ],
      "execution_count": null,
      "outputs": [
        {
          "output_type": "execute_result",
          "data": {
            "text/html": [
              "<div>\n",
              "<style scoped>\n",
              "    .dataframe tbody tr th:only-of-type {\n",
              "        vertical-align: middle;\n",
              "    }\n",
              "\n",
              "    .dataframe tbody tr th {\n",
              "        vertical-align: top;\n",
              "    }\n",
              "\n",
              "    .dataframe thead th {\n",
              "        text-align: right;\n",
              "    }\n",
              "</style>\n",
              "<table border=\"1\" class=\"dataframe\">\n",
              "  <thead>\n",
              "    <tr style=\"text-align: right;\">\n",
              "      <th></th>\n",
              "      <th>license_plate_number</th>\n",
              "      <th>imageName</th>\n",
              "      <th>imageHeight</th>\n",
              "      <th>imageWidth</th>\n",
              "      <th>label</th>\n",
              "      <th>notes</th>\n",
              "      <th>points</th>\n",
              "      <th>content</th>\n",
              "    </tr>\n",
              "  </thead>\n",
              "  <tbody>\n",
              "    <tr>\n",
              "      <th>3</th>\n",
              "      <td>KA03 1351</td>\n",
              "      <td>image3.jpg</td>\n",
              "      <td>469</td>\n",
              "      <td>500</td>\n",
              "      <td>[number_plate]</td>\n",
              "      <td></td>\n",
              "      <td>[{'x': 0.434, 'y': 0.6673773987206824}, {'x': ...</td>\n",
              "      <td>http://com.dataturks.a96-i23.open.s3.amazonaws...</td>\n",
              "    </tr>\n",
              "    <tr>\n",
              "      <th>8</th>\n",
              "      <td>THO7BU5427</td>\n",
              "      <td>image8.jpg</td>\n",
              "      <td>1119</td>\n",
              "      <td>1569</td>\n",
              "      <td>[number_plate]</td>\n",
              "      <td></td>\n",
              "      <td>[{'x': 0.41075794621026895, 'y': 0.45371428571...</td>\n",
              "      <td>http://com.dataturks.a96-i23.open.s3.amazonaws...</td>\n",
              "    </tr>\n",
              "    <tr>\n",
              "      <th>10</th>\n",
              "      <td>KL KLeSR 2473 ye</td>\n",
              "      <td>image10.jpg</td>\n",
              "      <td>400</td>\n",
              "      <td>642</td>\n",
              "      <td>[number_plate]</td>\n",
              "      <td></td>\n",
              "      <td>[{'x': 0.3115264797507788, 'y': 0.345}, {'x': ...</td>\n",
              "      <td>http://com.dataturks.a96-i23.open.s3.amazonaws...</td>\n",
              "    </tr>\n",
              "    <tr>\n",
              "      <th>12</th>\n",
              "      <td>MH20CSi 1</td>\n",
              "      <td>image12.jpg</td>\n",
              "      <td>435</td>\n",
              "      <td>640</td>\n",
              "      <td>[number_plate]</td>\n",
              "      <td></td>\n",
              "      <td>[{'x': 0.3359375, 'y': 0.42758620689655175}, {...</td>\n",
              "      <td>http://com.dataturks.a96-i23.open.s3.amazonaws...</td>\n",
              "    </tr>\n",
              "    <tr>\n",
              "      <th>15</th>\n",
              "      <td>HDL 7C N 3617</td>\n",
              "      <td>image15.jpg</td>\n",
              "      <td>642</td>\n",
              "      <td>774</td>\n",
              "      <td>[number_plate]</td>\n",
              "      <td></td>\n",
              "      <td>[{'x': 0.35400516795865633, 'y': 0.53582554517...</td>\n",
              "      <td>http://com.dataturks.a96-i23.open.s3.amazonaws...</td>\n",
              "    </tr>\n",
              "  </tbody>\n",
              "</table>\n",
              "</div>"
            ],
            "text/plain": [
              "   license_plate_number  ...                                            content\n",
              "3             KA03 1351  ...  http://com.dataturks.a96-i23.open.s3.amazonaws...\n",
              "8            THO7BU5427  ...  http://com.dataturks.a96-i23.open.s3.amazonaws...\n",
              "10     KL KLeSR 2473 ye  ...  http://com.dataturks.a96-i23.open.s3.amazonaws...\n",
              "12            MH20CSi 1  ...  http://com.dataturks.a96-i23.open.s3.amazonaws...\n",
              "15        HDL 7C N 3617  ...  http://com.dataturks.a96-i23.open.s3.amazonaws...\n",
              "\n",
              "[5 rows x 8 columns]"
            ]
          },
          "metadata": {
            "tags": []
          },
          "execution_count": 8
        }
      ]
    },
    {
      "cell_type": "markdown",
      "metadata": {
        "id": "e7QajT-uKWZL"
      },
      "source": [
        "# Finally the result is stored into .csv file"
      ]
    },
    {
      "cell_type": "code",
      "metadata": {
        "id": "pTTcRCWDKWZL"
      },
      "source": [
        "df.to_csv(\"result.csv\")"
      ],
      "execution_count": null,
      "outputs": []
    },
    {
      "cell_type": "markdown",
      "metadata": {
        "id": "pSgvudPZKWZO"
      },
      "source": [
        "# Referances\n",
        "- https://pypi.org/project/pytesseract/\n",
        "- https://docs.opencv.org/3.0-beta/doc/py_tutorials/py_setup/py_intro/py_intro.html\n",
        "- https://pandas.pydata.org/pandas-docs/stable/reference/api/pandas.io.json.json_normalize.html\n",
        "- https://scikit-image.org/docs/dev/api/skimage.io.html"
      ]
    },
    {
      "cell_type": "code",
      "metadata": {
        "id": "77GIpohxKWZP"
      },
      "source": [
        ""
      ],
      "execution_count": null,
      "outputs": []
    }
  ]
}